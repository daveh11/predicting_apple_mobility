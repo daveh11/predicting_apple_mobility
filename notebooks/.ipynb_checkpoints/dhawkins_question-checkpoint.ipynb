{
 "cells": [
  {
   "cell_type": "code",
   "execution_count": 235,
   "metadata": {},
   "outputs": [],
   "source": [
    "#  Please write a number of classes to process and represent simple data, as follows:\n",
    "#   1 - A superclass to represent a single data entry with two features. Superclass should have functionality to\n",
    "#       store underlying \"raw\" data and to display formatted data.\n",
    "#       Extend with a subclass to represent an entry from a more specific source containing additional numerical\n",
    "#       data. \n",
    "#   2 - A factory class to produce an object given a \"row\" of input data, such as might be obtained from reading \n",
    "#       in a CSV file.\n",
    "#   3 - Iterate over all sample rows given below ('rows'), using the factory to create objects.\n",
    "#   4 - Very briefly describe why this type of code might be valuable or important.\n",
    "#\n",
    "# Note: include code to \"standardize\" data from each row (process strings, ensure data types, etc)\n",
    "\n",
    "super_rows = [\n",
    "    [\"Pegasus\", \"True\"],\n",
    "    [\"Unicorn\", \"False\"]\n",
    "]\n",
    "sub_rows = [\n",
    "    [\"Alicorn\", \"23.1\", \"True\"],\n",
    "    [\"basilisk\", \"120.433\", \"False\"],\n",
    "    [\"ChiMera\", \"101.8\", \"True\"],\n",
    "    [\"Nemean lion\", \"2\", \"False\"],\n",
    "    [\"Griffin\", \"65.82,465.21\", \"False\"],\n",
    "    [\"0rthros\", \"52.01\", \"False\"],\n",
    "    [\"Cockatrice\", \"nan\", \"True\"],\n",
    "]\n",
    "\n",
    "rows = super_rows + sub_rows\n",
    "\n",
    "# Add ingestion code here"
   ]
  },
  {
   "cell_type": "code",
   "execution_count": 252,
   "metadata": {},
   "outputs": [],
   "source": [
    "from dataclasses import dataclass\n",
    "import numpy as np\n",
    "import pandas as pd\n",
    "\n",
    "@dataclass\n",
    "class ParentClass:\n",
    "    str_var: str\n",
    "    bool_var: str\n",
    "\n",
    "    def display_formated(self):\n",
    "        str_var_format = self.str_var.lower().capitalize()\n",
    "        bool_var_format = True if self.bool_var.lower() == 'true' else False \n",
    "        print(f'Name is: { str_var_format }\\nBinary is: { bool_var_format } ' )"
   ]
  },
  {
   "cell_type": "code",
   "execution_count": 253,
   "metadata": {},
   "outputs": [],
   "source": [
    "# instance of the \"ParentClass\"\n",
    "parent = ParentClass(\"Pegasus\", \"True\")"
   ]
  },
  {
   "cell_type": "code",
   "execution_count": 254,
   "metadata": {},
   "outputs": [
    {
     "name": "stdout",
     "output_type": "stream",
     "text": [
      "Pegasus\n",
      "True\n"
     ]
    }
   ],
   "source": [
    "# stored values\n",
    "print(parent.str_var)\n",
    "print(parent.bool_var)"
   ]
  },
  {
   "cell_type": "code",
   "execution_count": 255,
   "metadata": {},
   "outputs": [
    {
     "name": "stdout",
     "output_type": "stream",
     "text": [
      "Name is: Pegasus\n",
      "Binary is: True \n"
     ]
    }
   ],
   "source": [
    "# display formated \n",
    "parent.display_formated()"
   ]
  },
  {
   "cell_type": "code",
   "execution_count": 256,
   "metadata": {},
   "outputs": [],
   "source": [
    "@dataclass\n",
    "class ChildClass(ParentClass):\n",
    "    str_var: str\n",
    "    num_var: str\n",
    "    bool_var: str\n",
    "            \n",
    "    \n",
    "    def display_formated(self):\n",
    "        str_var_format = self.str_var.lower().capitalize()\n",
    "        bool_var_format = True if self.bool_var.lower() == 'true' else False \n",
    "        try:\n",
    "            num_var_format = float(self.num_var)\n",
    "        except:\n",
    "            num_var_format = np.nan\n",
    "            \n",
    "        print(f'Name is: { str_var_format }\\nBinary is: {bool_var_format} \\nValue is: {num_var_format}' )"
   ]
  },
  {
   "cell_type": "code",
   "execution_count": 257,
   "metadata": {},
   "outputs": [],
   "source": [
    "# instance of the \"ParentClass\"\n",
    "child = ChildClass(str_var=\"Alicorn\", num_var=\"-\", bool_var=\"True\")"
   ]
  },
  {
   "cell_type": "code",
   "execution_count": 258,
   "metadata": {},
   "outputs": [
    {
     "name": "stdout",
     "output_type": "stream",
     "text": [
      "Alicorn\n",
      "True\n",
      "-\n"
     ]
    }
   ],
   "source": [
    "# stored values\n",
    "print(child.str_var)\n",
    "print(child.bool_var)\n",
    "print(child.num_var)"
   ]
  },
  {
   "cell_type": "code",
   "execution_count": 259,
   "metadata": {},
   "outputs": [
    {
     "name": "stdout",
     "output_type": "stream",
     "text": [
      "Name is: Alicorn\n",
      "Binary is: True \n",
      "Value is: nan\n"
     ]
    }
   ],
   "source": [
    "# display formated \n",
    "child.display_formated()"
   ]
  },
  {
   "cell_type": "code",
   "execution_count": 260,
   "metadata": {},
   "outputs": [],
   "source": [
    "class FactoryClass:\n",
    "    def process_example(example):\n",
    "        if len(example) == 2:\n",
    "            return ParentClass(example[0], example[1])\n",
    "        else:\n",
    "            return ChildClass(str_var=example[0], num_var=example[1], bool_var=example[2])\n",
    "    "
   ]
  },
  {
   "cell_type": "code",
   "execution_count": 261,
   "metadata": {},
   "outputs": [],
   "source": [
    "string_list = []\n",
    "bool_list = []\n",
    "number_list = []\n",
    "\n",
    "for example in rows:\n",
    "    row = FactoryClass.process_example(example)\n",
    "    string_list.append(row.str_var)\n",
    "    bool_list.append(row.bool_var)\n",
    "    try:\n",
    "        number_list.append(row.num_var)\n",
    "    except:\n",
    "        number_list.append(np.nan)"
   ]
  },
  {
   "cell_type": "code",
   "execution_count": 262,
   "metadata": {},
   "outputs": [
    {
     "data": {
      "text/html": [
       "<div>\n",
       "<style scoped>\n",
       "    .dataframe tbody tr th:only-of-type {\n",
       "        vertical-align: middle;\n",
       "    }\n",
       "\n",
       "    .dataframe tbody tr th {\n",
       "        vertical-align: top;\n",
       "    }\n",
       "\n",
       "    .dataframe thead th {\n",
       "        text-align: right;\n",
       "    }\n",
       "</style>\n",
       "<table border=\"1\" class=\"dataframe\">\n",
       "  <thead>\n",
       "    <tr style=\"text-align: right;\">\n",
       "      <th></th>\n",
       "      <th>strings</th>\n",
       "      <th>booleans</th>\n",
       "      <th>numbers</th>\n",
       "    </tr>\n",
       "  </thead>\n",
       "  <tbody>\n",
       "    <tr>\n",
       "      <th>0</th>\n",
       "      <td>Pegasus</td>\n",
       "      <td>True</td>\n",
       "      <td>NaN</td>\n",
       "    </tr>\n",
       "    <tr>\n",
       "      <th>1</th>\n",
       "      <td>Unicorn</td>\n",
       "      <td>False</td>\n",
       "      <td>NaN</td>\n",
       "    </tr>\n",
       "    <tr>\n",
       "      <th>2</th>\n",
       "      <td>Alicorn</td>\n",
       "      <td>True</td>\n",
       "      <td>23.1</td>\n",
       "    </tr>\n",
       "    <tr>\n",
       "      <th>3</th>\n",
       "      <td>basilisk</td>\n",
       "      <td>False</td>\n",
       "      <td>120.433</td>\n",
       "    </tr>\n",
       "    <tr>\n",
       "      <th>4</th>\n",
       "      <td>ChiMera</td>\n",
       "      <td>True</td>\n",
       "      <td>101.8</td>\n",
       "    </tr>\n",
       "    <tr>\n",
       "      <th>5</th>\n",
       "      <td>Nemean lion</td>\n",
       "      <td>False</td>\n",
       "      <td>2</td>\n",
       "    </tr>\n",
       "    <tr>\n",
       "      <th>6</th>\n",
       "      <td>Griffin</td>\n",
       "      <td>False</td>\n",
       "      <td>65.82,465.21</td>\n",
       "    </tr>\n",
       "    <tr>\n",
       "      <th>7</th>\n",
       "      <td>0rthros</td>\n",
       "      <td>False</td>\n",
       "      <td>52.01</td>\n",
       "    </tr>\n",
       "    <tr>\n",
       "      <th>8</th>\n",
       "      <td>Cockatrice</td>\n",
       "      <td>True</td>\n",
       "      <td>nan</td>\n",
       "    </tr>\n",
       "  </tbody>\n",
       "</table>\n",
       "</div>"
      ],
      "text/plain": [
       "       strings booleans       numbers\n",
       "0      Pegasus     True           NaN\n",
       "1      Unicorn    False           NaN\n",
       "2      Alicorn     True          23.1\n",
       "3     basilisk    False       120.433\n",
       "4      ChiMera     True         101.8\n",
       "5  Nemean lion    False             2\n",
       "6      Griffin    False  65.82,465.21\n",
       "7      0rthros    False         52.01\n",
       "8   Cockatrice     True           nan"
      ]
     },
     "execution_count": 262,
     "metadata": {},
     "output_type": "execute_result"
    }
   ],
   "source": [
    "pd.DataFrame({\n",
    "    'strings': string_list,\n",
    "    'booleans': bool_list,\n",
    "    'numbers': number_list\n",
    "})"
   ]
  },
  {
   "cell_type": "code",
   "execution_count": null,
   "metadata": {},
   "outputs": [],
   "source": []
  }
 ],
 "metadata": {
  "kernelspec": {
   "display_name": "Python 3",
   "language": "python",
   "name": "python3"
  },
  "language_info": {
   "codemirror_mode": {
    "name": "ipython",
    "version": 3
   },
   "file_extension": ".py",
   "mimetype": "text/x-python",
   "name": "python",
   "nbconvert_exporter": "python",
   "pygments_lexer": "ipython3",
   "version": "3.8.5"
  },
  "toc": {
   "base_numbering": 1,
   "nav_menu": {},
   "number_sections": true,
   "sideBar": true,
   "skip_h1_title": false,
   "title_cell": "Table of Contents",
   "title_sidebar": "Contents",
   "toc_cell": false,
   "toc_position": {},
   "toc_section_display": true,
   "toc_window_display": false
  }
 },
 "nbformat": 4,
 "nbformat_minor": 2
}
