{
 "cells": [
  {
   "cell_type": "markdown",
   "metadata": {},
   "source": [
    "## Vitol: Data Science Test"
   ]
  },
  {
   "cell_type": "markdown",
   "metadata": {},
   "source": [
    "Please review all cells, following instructions for each and adding code and commentary where required.\n",
    "\n",
    "The goal of this test is not optimal models or code, but rather to observe your problem solving approach.\n",
    "\n",
    "\n",
    "January 2021"
   ]
  },
  {
   "cell_type": "markdown",
   "metadata": {},
   "source": [
    "### Python Warmup"
   ]
  },
  {
   "cell_type": "code",
   "execution_count": 3,
   "metadata": {},
   "outputs": [],
   "source": [
    "import pandas as pd"
   ]
  },
  {
   "cell_type": "code",
   "execution_count": null,
   "metadata": {
    "collapsed": true
   },
   "outputs": [],
   "source": [
    "## \n",
    "# Write a simple generator for the source data below, and iterate through it.\n",
    "# For each element e, store the value of the following function, or catch and handle the specific errors\n",
    "# that arise in attempting to execute the function: f(e) = NaturalLog(e) / e\n",
    "# On error for element e, report appropriate message and store an error value for e.\n",
    "\n",
    "source_data = [1,2,3,-2,4,3,\"two\",5,0,7,8,9,\"one\",\"two\",\"three\", 25]\n",
    "\n",
    "# Briefly explain the benefits of generators and of error handling in general\n",
    "# Add code"
   ]
  },
  {
   "cell_type": "code",
   "execution_count": null,
   "metadata": {},
   "outputs": [],
   "source": [
    "#  Please write a number of classes to process and represent simple data, as follows:\n",
    "#   1 - A superclass to represent a single data entry with two features. Superclass should have functionality to\n",
    "#       store underlying \"raw\" data and to display formatted data.\n",
    "#       Extend with a subclass to represent an entry from a more specific source containing additional numerical\n",
    "#       data. \n",
    "#   2 - A factory class to produce an object given a \"row\" of input data, such as might be obtained from reading \n",
    "#       in a CSV file.\n",
    "#   3 - Iterate over all sample rows given below ('rows'), using the factory to create objects.\n",
    "#   4 - Very briefly describe why this type of code might be valuable or important.\n",
    "#\n",
    "# Note: include code to \"standardize\" data from each row (process strings, ensure data types, etc)\n",
    "\n",
    "class NameMe(object):\n",
    "    # Add code here\n",
    "    pass\n",
    "\n",
    "class SubNameMe(Dat):\n",
    "    # Add code here\n",
    "    pass\n",
    "\n",
    "class NameMeFactory(object):\n",
    "    # Add code here\n",
    "    pass\n",
    "\n",
    "\n",
    "super_rows = [\n",
    "    [\"Pegasus\", \"True\"],\n",
    "    [\"Unicorn\", \"False\"]\n",
    "]\n",
    "sub_rows = [\n",
    "    [\"Alicorn\", \"23.1\", \"True\"],\n",
    "    [\"basilisk\", \"120.433\", \"False\"],\n",
    "    [\"ChiMera\", \"101.2\", \"False\"],\n",
    "    [\"Griffin\", \"65.88\", \"True\"],\n",
    "    [\"Nemean lion\", \"2,465.21\", \"False\"],\n",
    "    [\"0rthros\", \"52.01\", \"False\"],\n",
    "    [\"Cockatrice\", \"nan\", \"True\"],\n",
    "]\n",
    "\n",
    "rows = super_rows + sub_rows\n",
    "\n",
    "# Add ingestion code here"
   ]
  },
  {
   "cell_type": "markdown",
   "metadata": {},
   "source": [
    "### Investigating  Data"
   ]
  },
  {
   "cell_type": "code",
   "execution_count": null,
   "metadata": {},
   "outputs": [],
   "source": [
    "##\n",
    "# Download the apple mobility dataset, found here: https://www.apple.com/covid19/mobility \n",
    "# (click the \"all data csv\" button). Read in the raw data, and filter out all but Denmark and Norway.\n",
    "# Resample the time series data to weekly granularity, and determine if you think mobility between the two\n",
    "# countries are correlated or not.\n",
    "\n",
    "# Add code\n",
    "# Briefly explain your conclusion about mobility correlation"
   ]
  },
  {
   "cell_type": "code",
   "execution_count": 4,
   "metadata": {},
   "outputs": [],
   "source": [
    "RAW_DATA_DIR = '../data/raw/'\n",
    "filename = 'applemobilitytrends-2021-05-29.csv'"
   ]
  },
  {
   "cell_type": "code",
   "execution_count": 12,
   "metadata": {},
   "outputs": [
    {
     "name": "stderr",
     "output_type": "stream",
     "text": [
      "/Users/davidhawkins/opt/anaconda3/lib/python3.8/site-packages/IPython/core/interactiveshell.py:3146: DtypeWarning: Columns (3) have mixed types.Specify dtype option on import or set low_memory=False.\n",
      "  has_raised = await self.run_ast_nodes(code_ast.body, cell_name,\n"
     ]
    }
   ],
   "source": [
    "df_mobility = pd.read_csv(RAW_DATA_DIR + filename)"
   ]
  },
  {
   "cell_type": "code",
   "execution_count": 10,
   "metadata": {},
   "outputs": [],
   "source": [
    "countries_list = ['Denmark','Norway']"
   ]
  },
  {
   "cell_type": "code",
   "execution_count": 14,
   "metadata": {},
   "outputs": [],
   "source": [
    "df = df_mobility[df_mobility.country.isin(countries_list)]"
   ]
  },
  {
   "cell_type": "code",
   "execution_count": 35,
   "metadata": {},
   "outputs": [],
   "source": [
    "df_denmark = df_mobility[df_mobility.region == 'Denmark']"
   ]
  },
  {
   "cell_type": "code",
   "execution_count": 49,
   "metadata": {},
   "outputs": [
    {
     "data": {
      "text/html": [
       "<div>\n",
       "<style scoped>\n",
       "    .dataframe tbody tr th:only-of-type {\n",
       "        vertical-align: middle;\n",
       "    }\n",
       "\n",
       "    .dataframe tbody tr th {\n",
       "        vertical-align: top;\n",
       "    }\n",
       "\n",
       "    .dataframe thead th {\n",
       "        text-align: right;\n",
       "    }\n",
       "</style>\n",
       "<table border=\"1\" class=\"dataframe\">\n",
       "  <thead>\n",
       "    <tr style=\"text-align: right;\">\n",
       "      <th></th>\n",
       "      <th>region</th>\n",
       "      <th>transportation_type</th>\n",
       "      <th>Date</th>\n",
       "      <th>oi</th>\n",
       "    </tr>\n",
       "  </thead>\n",
       "  <tbody>\n",
       "    <tr>\n",
       "      <th>0</th>\n",
       "      <td>Denmark</td>\n",
       "      <td>driving</td>\n",
       "      <td>2020-01-13</td>\n",
       "      <td>100.00</td>\n",
       "    </tr>\n",
       "    <tr>\n",
       "      <th>1</th>\n",
       "      <td>Denmark</td>\n",
       "      <td>transit</td>\n",
       "      <td>2020-01-13</td>\n",
       "      <td>100.00</td>\n",
       "    </tr>\n",
       "    <tr>\n",
       "      <th>2</th>\n",
       "      <td>Denmark</td>\n",
       "      <td>walking</td>\n",
       "      <td>2020-01-13</td>\n",
       "      <td>100.00</td>\n",
       "    </tr>\n",
       "    <tr>\n",
       "      <th>3</th>\n",
       "      <td>Denmark</td>\n",
       "      <td>driving</td>\n",
       "      <td>2020-01-14</td>\n",
       "      <td>103.67</td>\n",
       "    </tr>\n",
       "    <tr>\n",
       "      <th>4</th>\n",
       "      <td>Denmark</td>\n",
       "      <td>transit</td>\n",
       "      <td>2020-01-14</td>\n",
       "      <td>98.09</td>\n",
       "    </tr>\n",
       "    <tr>\n",
       "      <th>...</th>\n",
       "      <td>...</td>\n",
       "      <td>...</td>\n",
       "      <td>...</td>\n",
       "      <td>...</td>\n",
       "    </tr>\n",
       "    <tr>\n",
       "      <th>1504</th>\n",
       "      <td>Denmark</td>\n",
       "      <td>transit</td>\n",
       "      <td>2021-05-28</td>\n",
       "      <td>110.37</td>\n",
       "    </tr>\n",
       "    <tr>\n",
       "      <th>1505</th>\n",
       "      <td>Denmark</td>\n",
       "      <td>walking</td>\n",
       "      <td>2021-05-28</td>\n",
       "      <td>163.33</td>\n",
       "    </tr>\n",
       "    <tr>\n",
       "      <th>1506</th>\n",
       "      <td>Denmark</td>\n",
       "      <td>driving</td>\n",
       "      <td>2021-05-29</td>\n",
       "      <td>138.27</td>\n",
       "    </tr>\n",
       "    <tr>\n",
       "      <th>1507</th>\n",
       "      <td>Denmark</td>\n",
       "      <td>transit</td>\n",
       "      <td>2021-05-29</td>\n",
       "      <td>109.16</td>\n",
       "    </tr>\n",
       "    <tr>\n",
       "      <th>1508</th>\n",
       "      <td>Denmark</td>\n",
       "      <td>walking</td>\n",
       "      <td>2021-05-29</td>\n",
       "      <td>167.92</td>\n",
       "    </tr>\n",
       "  </tbody>\n",
       "</table>\n",
       "<p>1509 rows × 4 columns</p>\n",
       "</div>"
      ],
      "text/plain": [
       "       region transportation_type        Date      oi\n",
       "0     Denmark             driving  2020-01-13  100.00\n",
       "1     Denmark             transit  2020-01-13  100.00\n",
       "2     Denmark             walking  2020-01-13  100.00\n",
       "3     Denmark             driving  2020-01-14  103.67\n",
       "4     Denmark             transit  2020-01-14   98.09\n",
       "...       ...                 ...         ...     ...\n",
       "1504  Denmark             transit  2021-05-28  110.37\n",
       "1505  Denmark             walking  2021-05-28  163.33\n",
       "1506  Denmark             driving  2021-05-29  138.27\n",
       "1507  Denmark             transit  2021-05-29  109.16\n",
       "1508  Denmark             walking  2021-05-29  167.92\n",
       "\n",
       "[1509 rows x 4 columns]"
      ]
     },
     "execution_count": 49,
     "metadata": {},
     "output_type": "execute_result"
    }
   ],
   "source": [
    "pd.melt(df_denmark, id_vars=['region', 'transportation_type'], value_vars=list(df_denmark.columns[6:]), var_name='Date', \n",
    "        value_name='mobility')"
   ]
  },
  {
   "cell_type": "code",
   "execution_count": null,
   "metadata": {},
   "outputs": [],
   "source": [
    "##\n",
    "# Take your weekly resampled data for both countries, and plot it broken up into the three types of mobility.\n",
    "# Now add week-on-week changes to the plot, using a 2nd axis. Also include the results of your \n",
    "# correlation investigation in the previous cell.\n",
    "\n",
    "# Add code"
   ]
  },
  {
   "cell_type": "code",
   "execution_count": null,
   "metadata": {},
   "outputs": [],
   "source": [
    "##\n",
    "# Repeat the above two exercises, but now for Italy and the United States. \n",
    "\n",
    "# Add code\n",
    "# Comment briefly on the differences between the two correlation comparisons and what might motivate them"
   ]
  },
  {
   "cell_type": "markdown",
   "metadata": {},
   "source": [
    "### Modelling with Data"
   ]
  },
  {
   "cell_type": "code",
   "execution_count": null,
   "metadata": {
    "collapsed": true
   },
   "outputs": [],
   "source": [
    "##\n",
    "# Take the data from the United States, and prepare it for modelling... if any \"choices\" need to be made during the \n",
    "# clean-up process, briefly describe the options and why you chose the one you did. Do not remove the pandemic time \n",
    "# period from the data.\n",
    "\n",
    "# Add code\n",
    "# Describe choices in the clean up step"
   ]
  },
  {
   "cell_type": "code",
   "execution_count": null,
   "metadata": {
    "collapsed": true
   },
   "outputs": [],
   "source": [
    "##\n",
    "# Create a model that predicts the next week's average driving mobility in the US. Evaluate the accuracy of your model, \n",
    "# and briefly dicuss whether it is a \"good\" model or not. No need to try and optimize the accuracy at this stage.\n",
    "\n",
    "# Add code\n",
    "# Add comentary on the quality of the model"
   ]
  },
  {
   "cell_type": "code",
   "execution_count": null,
   "metadata": {},
   "outputs": [],
   "source": [
    "## \n",
    "# If you had a longer history of data, would you have chosen a different model? If so describe why, and provide a few\n",
    "# lines of pseudo code that display how training/evaluating that model would look if you had the appropriate data.\n",
    "\n",
    "# Add Code \n",
    "# Add Comments "
   ]
  },
  {
   "cell_type": "code",
   "execution_count": null,
   "metadata": {
    "collapsed": true
   },
   "outputs": [],
   "source": [
    "## Extra Credit\n",
    "\n",
    "# Change the prediction granularity of your model to daily, and try predicting different time horizons\n",
    "# (1 day, 7 days, 30 days, and 90 days). Do you think any of these models are suitable for \"production\"?\n",
    "# How would you convince someone else of the relative quality of the models of different time horizons?\n",
    "\n",
    "# Add code\n",
    "# Add commentary"
   ]
  }
 ],
 "metadata": {
  "kernelspec": {
   "display_name": "Python 3",
   "language": "python",
   "name": "python3"
  },
  "language_info": {
   "codemirror_mode": {
    "name": "ipython",
    "version": 3
   },
   "file_extension": ".py",
   "mimetype": "text/x-python",
   "name": "python",
   "nbconvert_exporter": "python",
   "pygments_lexer": "ipython3",
   "version": "3.8.5"
  },
  "toc": {
   "base_numbering": 1,
   "nav_menu": {},
   "number_sections": true,
   "sideBar": true,
   "skip_h1_title": false,
   "title_cell": "Table of Contents",
   "title_sidebar": "Contents",
   "toc_cell": false,
   "toc_position": {},
   "toc_section_display": true,
   "toc_window_display": false
  }
 },
 "nbformat": 4,
 "nbformat_minor": 2
}
