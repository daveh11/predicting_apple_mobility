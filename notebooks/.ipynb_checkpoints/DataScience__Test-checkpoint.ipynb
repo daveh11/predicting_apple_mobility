{
 "cells": [
  {
   "cell_type": "markdown",
   "metadata": {},
   "source": [
    "## Data Science Test"
   ]
  },
  {
   "cell_type": "markdown",
   "metadata": {},
   "source": [
    "Please review all cells, following instructions for each and adding code and commentary where required.\n",
    "\n",
    "The goal of this test is not optimal models or code, but rather to observe your problem solving approach.\n",
    "\n",
    "\n",
    "January 2021"
   ]
  },
  {
   "cell_type": "markdown",
   "metadata": {},
   "source": [
    "### Python Warmup"
   ]
  },
  {
   "cell_type": "code",
   "execution_count": null,
   "metadata": {
    "collapsed": true
   },
   "outputs": [],
   "source": [
    "## \n",
    "# Write a simple generator for the source data below, and iterate through it.\n",
    "# For each element e, store the value of the following function, or catch and handle the specific errors\n",
    "# that arise in attempting to execute the function: f(e) = NaturalLog(e) / e\n",
    "# On error for element e, report appropriate message and store an error value for e.\n",
    "\n",
    "source_data = [1,2,3,-2,4,3,\"two\",5,0,7,8,9,\"one\",\"two\",\"three\", 25]\n",
    "\n",
    "# Briefly explain the benefits of generators and of error handling in general\n",
    "# Add code"
   ]
  },
  {
   "cell_type": "code",
   "execution_count": null,
   "metadata": {},
   "outputs": [],
   "source": [
    "#  Please write a number of classes to process and represent simple data, as follows:\n",
    "#   1 - A superclass to represent a single data entry with two features. Superclass should have functionality to\n",
    "#       store underlying \"raw\" data and to display formatted data.\n",
    "#       Extend with a subclass to represent an entry from a more specific source containing additional numerical\n",
    "#       data. \n",
    "#   2 - A factory class to produce an object given a \"row\" of input data, such as might be obtained from reading \n",
    "#       in a CSV file.\n",
    "#   3 - Iterate over all sample rows given below ('rows'), using the factory to create objects.\n",
    "#   4 - Very briefly describe why this type of code might be valuable or important.\n",
    "#\n",
    "# Note: include code to \"standardize\" data from each row (process strings, ensure data types, etc)\n",
    "\n",
    "class NameMe(object):\n",
    "    # Add code here\n",
    "    pass\n",
    "\n",
    "class SubNameMe(Dat):\n",
    "    # Add code here\n",
    "    pass\n",
    "\n",
    "class NameMeFactory(object):\n",
    "    # Add code here\n",
    "    pass\n",
    "\n",
    "\n",
    "super_rows = [\n",
    "    [\"Pegasus\", \"True\"],\n",
    "    [\"Unicorn\", \"False\"]\n",
    "]\n",
    "sub_rows = [\n",
    "    [\"Alicorn\", \"23.1\", \"True\"],\n",
    "    [\"basilisk\", \"120.433\", \"False\"],\n",
    "    [\"ChiMera\", \"101.2\", \"False\"],\n",
    "    [\"Griffin\", \"65.88\", \"True\"],\n",
    "    [\"Nemean lion\", \"2,465.21\", \"False\"],\n",
    "    [\"0rthros\", \"52.01\", \"False\"],\n",
    "    [\"Cockatrice\", \"nan\", \"True\"],\n",
    "]\n",
    "\n",
    "rows = super_rows + sub_rows\n",
    "\n",
    "# Add ingestion code here"
   ]
  },
  {
   "cell_type": "markdown",
   "metadata": {},
   "source": [
    "### Investigating  Data"
   ]
  },
  {
   "cell_type": "code",
   "execution_count": null,
   "metadata": {},
   "outputs": [],
   "source": [
    "##\n",
    "# Download the apple mobility dataset, found here: https://www.apple.com/covid19/mobility \n",
    "# (click the \"all data csv\" button). Read in the raw data, and filter out all but Denmark and Norway.\n",
    "# Resample the time series data to weekly granularity, and determine if you think mobility between the two\n",
    "# countries are correlated or not.\n",
    "\n",
    "# Add code\n",
    "# Briefly explain your conclusion about mobility correlation"
   ]
  },
  {
   "cell_type": "code",
   "execution_count": null,
   "metadata": {},
   "outputs": [],
   "source": [
    "##\n",
    "# Take your weekly resampled data for both countries, and plot it broken up into the three types of mobility.\n",
    "# Now add week-on-week changes to the plot, using a 2nd axis. Also include the results of your \n",
    "# correlation investigation in the previous cell.\n",
    "\n",
    "# Add code"
   ]
  },
  {
   "cell_type": "code",
   "execution_count": null,
   "metadata": {},
   "outputs": [],
   "source": [
    "##\n",
    "# Repeat the above two exercises, but now for Italy and the United States. \n",
    "\n",
    "# Add code\n",
    "# Comment briefly on the differences between the two correlation comparisons and what might motivate them"
   ]
  },
  {
   "cell_type": "markdown",
   "metadata": {},
   "source": [
    "### Modelling with Data"
   ]
  },
  {
   "cell_type": "code",
   "execution_count": null,
   "metadata": {
    "collapsed": true
   },
   "outputs": [],
   "source": [
    "##\n",
    "# Take the data from the United States, and prepare it for modelling... if any \"choices\" need to be made during the \n",
    "# clean-up process, briefly describe the options and why you chose the one you did. Do not remove the pandemic time \n",
    "# period from the data.\n",
    "\n",
    "# Add code\n",
    "# Describe choices in the clean up step"
   ]
  },
  {
   "cell_type": "code",
   "execution_count": null,
   "metadata": {
    "collapsed": true
   },
   "outputs": [],
   "source": [
    "##\n",
    "# Create a model that predicts the next week's average driving mobility in the US. Evaluate the accuracy of your model, \n",
    "# and briefly dicuss whether it is a \"good\" model or not. No need to try and optimize the accuracy at this stage.\n",
    "\n",
    "# Add code\n",
    "# Add comentary on the quality of the model"
   ]
  },
  {
   "cell_type": "code",
   "execution_count": null,
   "metadata": {},
   "outputs": [],
   "source": [
    "## \n",
    "# If you had a longer history of data, would you have chosen a different model? If so describe why, and provide a few\n",
    "# lines of pseudo code that display how training/evaluating that model would look if you had the appropriate data.\n",
    "\n",
    "# Add Code \n",
    "# Add Comments "
   ]
  },
  {
   "cell_type": "code",
   "execution_count": null,
   "metadata": {
    "collapsed": true
   },
   "outputs": [],
   "source": [
    "## Extra Credit\n",
    "\n",
    "# Change the prediction granularity of your model to daily, and try predicting different time horizons\n",
    "# (1 day, 7 days, 30 days, and 90 days). Do you think any of these models are suitable for \"production\"?\n",
    "# How would you convince someone else of the relative quality of the models of different time horizons?\n",
    "\n",
    "# Add code\n",
    "# Add commentary"
   ]
  }
 ],
 "metadata": {
  "kernelspec": {
   "display_name": "Python 3",
   "language": "python",
   "name": "python3"
  },
  "language_info": {
   "codemirror_mode": {
    "name": "ipython",
    "version": 3
   },
   "file_extension": ".py",
   "mimetype": "text/x-python",
   "name": "python",
   "nbconvert_exporter": "python",
   "pygments_lexer": "ipython3",
   "version": "3.8.5"
  },
  "toc": {
   "base_numbering": 1,
   "nav_menu": {},
   "number_sections": true,
   "sideBar": true,
   "skip_h1_title": false,
   "title_cell": "Table of Contents",
   "title_sidebar": "Contents",
   "toc_cell": false,
   "toc_position": {},
   "toc_section_display": true,
   "toc_window_display": false
  }
 },
 "nbformat": 4,
 "nbformat_minor": 2
}
